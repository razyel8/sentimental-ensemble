{
 "cells": [
  {
   "cell_type": "code",
   "execution_count": 1,
   "metadata": {},
   "outputs": [
    {
     "name": "stdout",
     "output_type": "stream",
     "text": [
      "Collecting pdftitleNote: you may need to restart the kernel to use updated packages.\n"
     ]
    },
    {
     "name": "stderr",
     "output_type": "stream",
     "text": [
      "WARNING: You are using pip version 20.3.3; however, version 21.3.1 is available.\n",
      "You should consider upgrading via the 'D:\\python3-venvs\\ENV\\Scripts\\python.exe -m pip install --upgrade pip' command.\n"
     ]
    },
    {
     "name": "stdout",
     "output_type": "stream",
     "text": [
      "\n",
      "  Downloading pdftitle-0.11.tar.gz (10 kB)\n",
      "Collecting pdfminer.six>=20201018\n",
      "  Downloading pdfminer.six-20220524-py3-none-any.whl (5.6 MB)\n",
      "Collecting charset-normalizer>=2.0.0\n",
      "  Downloading charset_normalizer-2.1.0-py3-none-any.whl (39 kB)\n",
      "Collecting cryptography>=36.0.0\n",
      "  Downloading cryptography-37.0.4-cp36-abi3-win_amd64.whl (2.4 MB)\n",
      "Requirement already satisfied: cffi>=1.12 in d:\\python3-venvs\\env\\lib\\site-packages (from cryptography>=36.0.0->pdfminer.six>=20201018->pdftitle) (1.14.0)\n",
      "Requirement already satisfied: pycparser in d:\\python3-venvs\\env\\lib\\site-packages (from cffi>=1.12->cryptography>=36.0.0->pdfminer.six>=20201018->pdftitle) (2.20)\n",
      "Building wheels for collected packages: pdftitle\n",
      "  Building wheel for pdftitle (setup.py): started\n",
      "  Building wheel for pdftitle (setup.py): finished with status 'done'\n",
      "  Created wheel for pdftitle: filename=pdftitle-0.11-py3-none-any.whl size=10141 sha256=c8d1e14d269fcb8a8fc8ab886e07bace875dc5440fc281059b0435f73dddebdb\n",
      "  Stored in directory: c:\\users\\mateusz\\appdata\\local\\pip\\cache\\wheels\\6d\\1b\\fe\\c12d0b810d20b87374a052171a5819e27bd2e303dafb9517f8\n",
      "Successfully built pdftitle\n",
      "Installing collected packages: cryptography, charset-normalizer, pdfminer.six, pdftitle\n",
      "  Attempting uninstall: cryptography\n",
      "    Found existing installation: cryptography 2.9.2\n",
      "    Uninstalling cryptography-2.9.2:\n",
      "      Successfully uninstalled cryptography-2.9.2\n",
      "Successfully installed charset-normalizer-2.1.0 cryptography-37.0.4 pdfminer.six-20220524 pdftitle-0.11\n"
     ]
    }
   ],
   "source": [
    "pip install pdftitle"
   ]
  },
  {
   "cell_type": "code",
   "execution_count": 3,
   "metadata": {},
   "outputs": [
    {
     "name": "stderr",
     "output_type": "stream",
     "text": [
      "D:\\python3-venvs\\ENV\\lib\\site-packages\\pdfminer\\pdfdocument.py:22: CryptographyDeprecationWarning: Python 3.6 is no longer supported by the Python core team. Therefore, support for it is deprecated in cryptography and will be removed in a future release.\n",
      "  from cryptography.hazmat.backends import default_backend\n"
     ]
    }
   ],
   "source": [
    "import pdftitle"
   ]
  },
  {
   "cell_type": "code",
   "execution_count": 10,
   "metadata": {},
   "outputs": [],
   "source": [
    "from os import listdir\n",
    "from os.path import isfile, join\n",
    "mypath = \"../papers\"\n",
    "onlyfiles = [f for f in listdir(mypath) if isfile(join(mypath, f))]"
   ]
  },
  {
   "cell_type": "code",
   "execution_count": 11,
   "metadata": {},
   "outputs": [
    {
     "data": {
      "text/plain": [
       "['(2018) Ensemble learning A survey.pdf',\n",
       " '(2019) Emotional machines The next revolution.pdf',\n",
       " '(2020) A survey on ensemble learning.pdf',\n",
       " '(2022) Meta-features for meta-learning.pdf',\n",
       " '08925433.pdf',\n",
       " '1559252423_Panda_-_2019_-_Emotion-based_Analysis_and_Classification_of_Audio_Music.pdf',\n",
       " '2105.04906.pdf',\n",
       " '2108.05252.pdf',\n",
       " '2110.05032.pdf',\n",
       " '2814189.2818719.pdf',\n",
       " '2851581.2886434.pdf',\n",
       " 'AAAI08-132.pdf',\n",
       " 'ANSpaperCinC.pdf',\n",
       " 'Bertram2020EmotionEntropy.pdf',\n",
       " 'bickmore2005.pdf',\n",
       " 'd807ff6b3f43b64cf5ba0e8d4b5779a7.pdf',\n",
       " 'electronics-08-00292.pdf',\n",
       " 'FULLTEXT01 (1).pdf',\n",
       " 'FULLTEXT01.pdf',\n",
       " 'Hasca2019_Larradetetal.pdf',\n",
       " 'httpswww_amcs_uz_zgora_plactiondownloadpdfamcs20122247.pdf',\n",
       " 'ICCCIVictimbehavior19.pdf',\n",
       " 'kapoor2007.pdf',\n",
       " 'neurips2021_oteomr.pdf',\n",
       " 'oncharoen2018.pdf',\n",
       " 'Optimal Support Features for Meta-learning.pdf',\n",
       " 'picard2001.pdf',\n",
       " 'picard2002.pdf',\n",
       " 'PREDICTION OF FIGHT OR FLIGHT RESPONSE .pdf',\n",
       " 'RO_MAN_2020_5nanLmO.pdf',\n",
       " 'rspb.2018.0012.pdf',\n",
       " 'Shang_2020_IOP_Conf._Ser.__Earth_Environ._Sci._440_022060.pdf',\n",
       " 'sokolova2009.pdf',\n",
       " 'spectral-analysis-of-data.pdf',\n",
       " 'Sridhar_2020.pdf',\n",
       " 'TangSuganYao_ML06.pdf',\n",
       " 'tao2005.pdf',\n",
       " 'Uncertainty modeling in affective computing.pdf',\n",
       " 'wolpert1992.pdf']"
      ]
     },
     "execution_count": 11,
     "metadata": {},
     "output_type": "execute_result"
    }
   ],
   "source": [
    "onlyfiles"
   ]
  },
  {
   "cell_type": "code",
   "execution_count": 16,
   "metadata": {},
   "outputs": [
    {
     "data": {
      "text/plain": [
       "117"
      ]
     },
     "execution_count": 16,
     "metadata": {},
     "output_type": "execute_result"
    }
   ],
   "source": [
    "len(\" and the computation that they desire the computer to execute. Although studies exist for some aspects of programming\")"
   ]
  },
  {
   "cell_type": "code",
   "execution_count": 22,
   "metadata": {},
   "outputs": [
    {
     "name": "stdout",
     "output_type": "stream",
     "text": [
      "Ensemble learning: A survey\n",
      "Emotional machines: The next revolution\n",
      "PDF contains a unicode char that does not exist in the font\n",
      "[Errno 2] No such file or directory: '../papers/(2022) Meta-features for meta-learning.pdf'\n",
      "[Errno 2] No such file or directory: '../papers/08925433.pdf'\n",
      "VICReg: Variance-Invariance-Covariance Regularization for Self-Supervised Learning\n",
      "[Errno 2] No such file or directory: '../papers/2108.05252.pdf'\n",
      "[Errno 2] No such file or directory: '../papers/2110.05032.pdf'\n",
      "[Errno 2] No such file or directory: '../papers/2814189.2818719.pdf'\n",
      "PDF contains a unicode char that does not exist in the font\n",
      "[Errno 2] No such file or directory: '../papers/ANSpaperCinC.pdf'\n",
      "[Errno 2] No such file or directory: '../papers/Bertram2020EmotionEntropy.pdf'\n",
      "PDF contains a unicode char that does not exist in the font\n",
      "[Errno 2] No such file or directory: '../papers/d807ff6b3f43b64cf5ba0e8d4b5779a7.pdf'\n",
      "[Errno 2] No such file or directory: '../papers/electronics-08-00292.pdf'\n",
      "[Errno 2] No such file or directory: '../papers/FULLTEXT01 (1).pdf'\n",
      "[Errno 2] No such file or directory: '../papers/FULLTEXT01.pdf'\n",
      "[Errno 2] No such file or directory: '../papers/Hasca2019_Larradetetal.pdf'\n",
      "[Errno 2] No such file or directory: '../papers/httpswww_amcs_uz_zgora_plactiondownloadpdfamcs20122247.pdf'\n",
      "Fight or Flight: A temporal-causal analysis of the behavior of a bully-victim\n",
      "PDF contains a unicode char that does not exist in the font\n",
      "[Errno 2] No such file or directory: '../papers/neurips2021_oteomr.pdf'\n",
      "[Errno 2] No such file or directory: '../papers/oncharoen2018.pdf'\n",
      "[Errno 2] No such file or directory: '../papers/Optimal Support Features for Meta-learning.pdf'\n",
      "PDF contains a unicode char that does not exist in the font\n",
      "PDF contains a unicode char that does not exist in the font\n",
      "[Errno 2] No such file or directory: '../papers/PREDICTION OF FIGHT OR FLIGHT RESPONSE .pdf'\n",
      "[Errno 2] No such file or directory: '../papers/RO_MAN_2020_5nanLmO.pdf'\n",
      "[Errno 2] No such file or directory: '../papers/rspb.2018.0012.pdf'\n",
      "current block is None, this might be a bug. please report it together with the pdf file\n",
      "PDF contains a unicode char that does not exist in the font\n",
      "PDF contains a unicode char that does not exist in the font\n",
      "[Errno 2] No such file or directory: '../papers/Sridhar_2020.pdf'\n",
      "PDF contains a unicode char that does not exist in the font\n",
      "Affective Computing: A Review\n",
      "Uncertainty modeling in affective computing\n",
      "[Errno 2] No such file or directory: '../papers/wolpert1992.pdf'\n"
     ]
    }
   ],
   "source": [
    "\n",
    "import os\n",
    "\n",
    "\n",
    "for f in onlyfiles:\n",
    "    try:\n",
    "        title = pdftitle.get_title_from_file(f\"../papers/{f}\")\n",
    "        if len(title) < 120 and len(title) >5:\n",
    "            print(title)\n",
    "#             os.rename(f\"../papers/{f}\", f\"../papers/{title}.pdf\")\n",
    "    except Exception as e:\n",
    "        print(e)\n",
    "        pass"
   ]
  },
  {
   "cell_type": "code",
   "execution_count": null,
   "metadata": {},
   "outputs": [],
   "source": []
  }
 ],
 "metadata": {
  "kernelspec": {
   "display_name": "ENV",
   "language": "python",
   "name": "env"
  },
  "language_info": {
   "codemirror_mode": {
    "name": "ipython",
    "version": 3
   },
   "file_extension": ".py",
   "mimetype": "text/x-python",
   "name": "python",
   "nbconvert_exporter": "python",
   "pygments_lexer": "ipython3",
   "version": "3.6.7"
  }
 },
 "nbformat": 4,
 "nbformat_minor": 2
}
