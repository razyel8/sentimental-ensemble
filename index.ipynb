{
 "cells": [
  {
   "cell_type": "code",
   "execution_count": 165,
   "metadata": {},
   "outputs": [],
   "source": [
    "from sklearn.datasets import fetch_openml, load_iris\n",
    "from pymfe.mfe import MFE\n",
    "from sklearn.preprocessing import OrdinalEncoder\n",
    "import openml\n",
    "from sklearn import impute, tree, pipeline"
   ]
  },
  {
   "cell_type": "code",
   "execution_count": 148,
   "metadata": {},
   "outputs": [],
   "source": [
    "datasets = []\n",
    "datasets_ids = [\"house_prices\", \"iris\", \"diabetes\"]"
   ]
  },
  {
   "cell_type": "code",
   "execution_count": 166,
   "metadata": {},
   "outputs": [],
   "source": [
    "clf = pipeline.Pipeline(\n",
    "    steps=[\n",
    "        ('imputer', impute.SimpleImputer()),\n",
    "        ('estimator', tree.DecisionTreeClassifier())\n",
    "    ]\n",
    ")"
   ]
  },
  {
   "cell_type": "code",
   "execution_count": 171,
   "metadata": {},
   "outputs": [
    {
     "name": "stderr",
     "output_type": "stream",
     "text": [
      "c:\\users\\mateusz\\appdata\\local\\programs\\python\\python36\\lib\\site-packages\\pymfe\\_internal.py:1566: UserWarning: It is not possible make equal discretization\n",
      "  warnings.warn(\"It is not possible make equal discretization\")\n",
      "c:\\users\\mateusz\\appdata\\local\\programs\\python\\python36\\lib\\site-packages\\pymfe\\_internal.py:615: RuntimeWarning: Can't extract feature 'mad'.\n",
      " Exception message: AttributeError(\"module 'scipy.stats' has no attribute 'median_abs_deviation'\",).\n",
      " Will set it as 'np.nan' for all summary functions.\n",
      "  RuntimeWarning,\n",
      "c:\\users\\mateusz\\appdata\\local\\programs\\python\\python36\\lib\\site-packages\\pymfe\\_internal.py:734: RuntimeWarning: Can't summarize feature 'mad' with summary 'sd'. Will set it as 'np.nan'.\n",
      "  RuntimeWarning,\n",
      "c:\\users\\mateusz\\appdata\\local\\programs\\python\\python36\\lib\\site-packages\\numpy\\core\\fromnumeric.py:3118: RuntimeWarning: Mean of empty slice.\n",
      "  out=out, **kwargs)\n",
      "c:\\users\\mateusz\\appdata\\local\\programs\\python\\python36\\lib\\site-packages\\numpy\\core\\_methods.py:85: RuntimeWarning: invalid value encountered in double_scalars\n",
      "  ret = ret.dtype.type(ret / rcount)\n",
      "c:\\users\\mateusz\\appdata\\local\\programs\\python\\python36\\lib\\site-packages\\pymfe\\_internal.py:734: RuntimeWarning: Can't summarize feature 'mad' with summary 'mean'. Will set it as 'np.nan'.\n",
      "  RuntimeWarning,\n",
      "c:\\users\\mateusz\\appdata\\local\\programs\\python\\python36\\lib\\site-packages\\pymfe\\statistical.py:1267: RuntimeWarning: divide by zero encountered in log\n",
      "  np.log(np.linalg.det(S_i)) for S_i in sample_cov_matrices\n"
     ]
    },
    {
     "data": {
      "text/plain": [
       "(['attr_conc.mean',\n",
       "  'attr_conc.sd',\n",
       "  'attr_ent.mean',\n",
       "  'attr_ent.sd',\n",
       "  'attr_to_inst',\n",
       "  'can_cor.mean',\n",
       "  'can_cor.sd',\n",
       "  'cat_to_num',\n",
       "  'class_conc.mean',\n",
       "  'class_conc.sd',\n",
       "  'class_ent',\n",
       "  'cor.mean',\n",
       "  'cor.sd',\n",
       "  'cov.mean',\n",
       "  'cov.sd',\n",
       "  'eigenvalues.mean',\n",
       "  'eigenvalues.sd',\n",
       "  'eq_num_attr',\n",
       "  'freq_class.mean',\n",
       "  'freq_class.sd',\n",
       "  'g_mean.mean',\n",
       "  'g_mean.sd',\n",
       "  'gravity',\n",
       "  'h_mean.mean',\n",
       "  'h_mean.sd',\n",
       "  'inst_to_attr',\n",
       "  'iq_range.mean',\n",
       "  'iq_range.sd',\n",
       "  'joint_ent.mean',\n",
       "  'joint_ent.sd',\n",
       "  'kurtosis.mean',\n",
       "  'kurtosis.sd',\n",
       "  'lh_trace',\n",
       "  'mad.mean',\n",
       "  'mad.sd',\n",
       "  'max.mean',\n",
       "  'max.sd',\n",
       "  'mean.mean',\n",
       "  'mean.sd',\n",
       "  'median.mean',\n",
       "  'median.sd',\n",
       "  'min.mean',\n",
       "  'min.sd',\n",
       "  'mut_inf.mean',\n",
       "  'mut_inf.sd',\n",
       "  'nr_attr',\n",
       "  'nr_bin',\n",
       "  'nr_cat',\n",
       "  'nr_class',\n",
       "  'nr_cor_attr',\n",
       "  'nr_disc',\n",
       "  'nr_inst',\n",
       "  'nr_norm',\n",
       "  'nr_num',\n",
       "  'nr_outliers',\n",
       "  'ns_ratio',\n",
       "  'num_to_cat',\n",
       "  'p_trace',\n",
       "  'range.mean',\n",
       "  'range.sd',\n",
       "  'roy_root',\n",
       "  'sd.mean',\n",
       "  'sd.sd',\n",
       "  'sd_ratio',\n",
       "  'skewness.mean',\n",
       "  'skewness.sd',\n",
       "  'sparsity.mean',\n",
       "  'sparsity.sd',\n",
       "  't_mean.mean',\n",
       "  't_mean.sd',\n",
       "  'var.mean',\n",
       "  'var.sd',\n",
       "  'w_lambda'],\n",
       " [0.043203345291170814,\n",
       "  0.03500561494178982,\n",
       "  3.9133347730224415,\n",
       "  0.42575158794558804,\n",
       "  0.001455604075691412,\n",
       "  0.6743750924060115,\n",
       "  0.21804784203429142,\n",
       "  0.0,\n",
       "  0.10799985054151078,\n",
       "  0.05937544240581332,\n",
       "  3.320771738890595,\n",
       "  0.27119521248701656,\n",
       "  0.20431555993895234,\n",
       "  240.3058755452804,\n",
       "  207.71931419234264,\n",
       "  929.672676035524,\n",
       "  1327.671697465995,\n",
       "  4.579692444105344,\n",
       "  0.1,\n",
       "  0.004219831181359215,\n",
       "  0.0,\n",
       "  0.0,\n",
       "  144.8126621658777,\n",
       "  0.0,\n",
       "  0.0,\n",
       "  687.0,\n",
       "  48.5625,\n",
       "  19.28719350588191,\n",
       "  6.508998487865513,\n",
       "  0.544633774483296,\n",
       "  -0.5018154618757731,\n",
       "  1.1469822233810405,\n",
       "  15.795135048838462,\n",
       "  nan,\n",
       "  nan,\n",
       "  100.0,\n",
       "  0.0,\n",
       "  50.711045533115,\n",
       "  16.762180915296888,\n",
       "  49.84375,\n",
       "  22.765265025179627,\n",
       "  0.0,\n",
       "  0.0,\n",
       "  0.7251080240475225,\n",
       "  0.24208528742544505,\n",
       "  16,\n",
       "  0,\n",
       "  0,\n",
       "  10,\n",
       "  0.125,\n",
       "  9,\n",
       "  10992,\n",
       "  0.0,\n",
       "  16,\n",
       "  3,\n",
       "  4.396899004341962,\n",
       "  nan,\n",
       "  4.473394778645039,\n",
       "  100.0,\n",
       "  0.0,\n",
       "  6.706540742134561,\n",
       "  29.774238237334707,\n",
       "  6.785664373031173,\n",
       "  nan,\n",
       "  -0.03918538514845775,\n",
       "  0.6761329705788064,\n",
       "  0.009862085056310607,\n",
       "  0.00014513108070225144,\n",
       "  50.021452395391144,\n",
       "  20.73912732295538,\n",
       "  929.6726760355245,\n",
       "  392.62892713363277,\n",
       "  0.000576091584009949])"
      ]
     },
     "execution_count": 171,
     "metadata": {},
     "output_type": "execute_result"
    }
   ],
   "source": [
    "task = openml.tasks.get_task(32)\n",
    "X, y = task.get_X_and_y()\n",
    "extract_meta_features(X, y)"
   ]
  },
  {
   "cell_type": "code",
   "execution_count": 152,
   "metadata": {},
   "outputs": [
    {
     "name": "stdout",
     "output_type": "stream",
     "text": [
      "Fetching house_prices\n",
      "Fetching iris\n",
      "Fetching diabetes\n"
     ]
    },
    {
     "name": "stderr",
     "output_type": "stream",
     "text": [
      "c:\\users\\mateusz\\appdata\\local\\programs\\python\\python36\\lib\\site-packages\\sklearn\\datasets\\_openml.py:372: UserWarning: Multiple active versions of the dataset matching the name iris exist. Versions may be fundamentally different, returning version 1.\n",
      "  \" {version}.\".format(name=name, version=res[0]['version']))\n",
      "c:\\users\\mateusz\\appdata\\local\\programs\\python\\python36\\lib\\site-packages\\sklearn\\datasets\\_openml.py:372: UserWarning: Multiple active versions of the dataset matching the name diabetes exist. Versions may be fundamentally different, returning version 1.\n",
      "  \" {version}.\".format(name=name, version=res[0]['version']))\n"
     ]
    }
   ],
   "source": [
    "for dataset_id in datasets_ids:\n",
    "    print(f\"Fetching {dataset_id}\")\n",
    "    d = fetch_openml(name=dataset_id, as_frame=True, data_home=\"./data\")\n",
    "    datasets.append(d)"
   ]
  },
  {
   "cell_type": "code",
   "execution_count": 167,
   "metadata": {},
   "outputs": [],
   "source": [
    "def extract_meta_features(X, y):\n",
    "    # Extract default measures\n",
    "    mfe = mfe = MFE(groups=[\"general\", \"statistical\", \"info-theory\"]) #MFE()\n",
    "    mfe.fit(X, y)\n",
    "    ft = mfe.extract()\n",
    "    return ft"
   ]
  },
  {
   "cell_type": "code",
   "execution_count": 160,
   "metadata": {},
   "outputs": [],
   "source": [
    "y1[np.isnan(y1)] = 0"
   ]
  },
  {
   "cell_type": "code",
   "execution_count": 161,
   "metadata": {},
   "outputs": [
    {
     "data": {
      "text/plain": [
       "array([[1., 0., 1., 0., 1., 0., 1., 0., 1., 1., 0., 1., 0., 1., 1., 1.,\n",
       "        1., 1., 0., 1., 0., 0., 1., 1., 1., 1., 1., 0., 0., 0., 0., 1.,\n",
       "        0., 0., 0., 0., 0., 1., 1., 1., 0., 0., 0., 1., 0., 1., 0., 0.,\n",
       "        1., 0., 0., 0., 0., 1., 0., 0., 1., 0., 0., 0., 0., 1., 0., 0.,\n",
       "        1., 0., 1., 0., 0., 0., 1., 0., 1., 0., 0., 0., 0., 0., 1., 0.,\n",
       "        0., 0., 0., 0., 1., 0., 0., 0., 1., 0., 0., 0., 0., 1., 0., 0.,\n",
       "        0., 0., 0., 1., 1., 0., 0., 0., 0., 0., 0., 0., 0., 1., 1., 1.,\n",
       "        0., 0., 1., 1., 1., 0., 0., 0., 1., 0., 0., 0., 1., 1., 0., 0.,\n",
       "        1., 1., 1., 1., 1., 0., 0., 0., 0., 0., 0., 0., 0., 0., 0., 1.,\n",
       "        0., 0., 0., 0., 0., 0., 0., 0., 1., 0., 1., 1., 0., 0., 0., 1.,\n",
       "        0., 0., 0., 0., 1., 1., 0., 0., 0., 0., 1., 1., 0., 0., 0., 1.,\n",
       "        0., 1., 0., 1., 0., 0., 0., 0., 0., 1., 1., 1., 1., 1., 0., 0.,\n",
       "        1., 1., 0., 1., 0., 1., 1., 1., 0., 0., 0., 0., 0., 0., 1., 1.,\n",
       "        0., 1., 0., 0., 0., 1., 1., 1., 1., 0., 1., 1., 1., 1., 0., 0.,\n",
       "        0., 0., 0., 1., 0., 0., 1., 1., 0., 0., 0., 1., 1., 1., 1., 0.,\n",
       "        0., 0., 1., 1., 0., 1., 0., 0., 0., 0., 0., 0., 0., 0., 1., 1.,\n",
       "        0., 0., 0., 1., 0., 1., 0., 0., 1., 0., 1., 0., 0., 1., 1., 0.,\n",
       "        0., 0., 0., 0., 1., 0., 0., 0., 1., 0., 0., 1., 1., 0., 0., 1.,\n",
       "        0., 0., 0., 1., 1., 1., 0., 0., 1., 0., 1., 0., 1., 1., 0., 1.,\n",
       "        0., 0., 1., 0., 1., 1., 0., 0., 1., 0., 1., 0., 0., 1., 0., 1.,\n",
       "        0., 1., 1., 1., 0., 0., 1., 0., 1., 0., 0., 0., 1., 0., 0., 0.,\n",
       "        0., 1., 1., 1., 0., 0., 0., 0., 0., 0., 0., 0., 0., 1., 0., 0.,\n",
       "        0., 0., 0., 1., 1., 1., 0., 1., 1., 0., 0., 1., 0., 0., 1., 0.,\n",
       "        0., 1., 1., 0., 0., 0., 0., 1., 0., 0., 1., 0., 0., 0., 0., 0.,\n",
       "        0., 0., 1., 1., 1., 0., 0., 1., 0., 0., 1., 0., 0., 1., 0., 1.,\n",
       "        1., 0., 1., 0., 1., 0., 1., 0., 1., 1., 0., 0., 0., 0., 1., 1.,\n",
       "        0., 1., 0., 1., 0., 0., 0., 0., 1., 1., 0., 1., 0., 1., 0., 0.,\n",
       "        0., 0., 0., 1., 0., 0., 0., 0., 1., 0., 0., 1., 1., 1., 0., 0.,\n",
       "        1., 0., 0., 1., 0., 0., 0., 1., 0., 0., 1., 0., 0., 0., 0., 0.,\n",
       "        0., 0., 0., 0., 1., 0., 0., 0., 0., 0., 0., 0., 1., 0., 0., 0.,\n",
       "        1., 0., 0., 0., 1., 1., 0., 0., 0., 0., 0., 0., 0., 1., 0., 0.,\n",
       "        0., 0., 1., 0., 0., 0., 1., 0., 0., 0., 1., 0., 0., 0., 1., 0.,\n",
       "        0., 0., 0., 1., 1., 0., 0., 0., 0., 0., 0., 1., 0., 0., 0., 0.,\n",
       "        0., 0., 0., 0., 0., 0., 0., 1., 0., 0., 0., 1., 1., 1., 1., 0.,\n",
       "        0., 1., 1., 0., 0., 0., 0., 0., 0., 0., 0., 0., 0., 0., 0., 0.,\n",
       "        1., 1., 0., 0., 0., 0., 0., 0., 0., 1., 0., 0., 0., 0., 0., 0.,\n",
       "        0., 1., 0., 1., 1., 0., 0., 0., 1., 0., 1., 0., 1., 0., 1., 0.,\n",
       "        1., 0., 0., 1., 0., 0., 1., 0., 0., 0., 0., 1., 1., 0., 1., 0.,\n",
       "        0., 0., 0., 1., 1., 0., 1., 0., 0., 0., 1., 1., 0., 0., 0., 0.,\n",
       "        0., 0., 0., 0., 0., 0., 1., 0., 0., 0., 0., 1., 0., 0., 1., 0.,\n",
       "        0., 0., 1., 0., 0., 0., 1., 1., 1., 0., 0., 0., 0., 0., 0., 1.,\n",
       "        0., 0., 0., 1., 0., 1., 1., 1., 1., 0., 1., 1., 0., 0., 0., 0.,\n",
       "        0., 0., 0., 1., 1., 0., 1., 0., 0., 1., 0., 1., 0., 0., 0., 0.,\n",
       "        0., 1., 0., 1., 0., 1., 0., 1., 1., 0., 0., 0., 0., 1., 1., 0.,\n",
       "        0., 0., 1., 0., 1., 1., 0., 0., 1., 0., 0., 1., 1., 0., 0., 1.,\n",
       "        0., 0., 1., 0., 0., 0., 0., 0., 0., 0., 1., 1., 1., 0., 0., 0.,\n",
       "        0., 0., 0., 1., 1., 0., 0., 1., 0., 0., 1., 0., 1., 1., 1., 0.,\n",
       "        0., 1., 1., 1., 0., 1., 0., 1., 0., 1., 0., 0., 0., 0., 1., 0.]])"
      ]
     },
     "execution_count": 161,
     "metadata": {},
     "output_type": "execute_result"
    }
   ],
   "source": [
    "y1"
   ]
  },
  {
   "cell_type": "code",
   "execution_count": 164,
   "metadata": {},
   "outputs": [
    {
     "name": "stdout",
     "output_type": "stream",
     "text": [
      "processing https://www.openml.org/d/42165\n"
     ]
    },
    {
     "name": "stderr",
     "output_type": "stream",
     "text": [
      "c:\\users\\mateusz\\appdata\\local\\programs\\python\\python36\\lib\\site-packages\\pymfe\\_internal.py:1566: UserWarning: It is not possible make equal discretization\n",
      "  warnings.warn(\"It is not possible make equal discretization\")\n",
      "c:\\users\\mateusz\\appdata\\local\\programs\\python\\python36\\lib\\site-packages\\pymfe\\_internal.py:615: RuntimeWarning: Can't extract feature 'can_cor'.\n",
      " Exception message: LinAlgError('SVD did not converge',).\n",
      " Will set it as 'np.nan' for all summary functions.\n",
      "  RuntimeWarning,\n",
      "c:\\users\\mateusz\\appdata\\local\\programs\\python\\python36\\lib\\site-packages\\pymfe\\_internal.py:734: RuntimeWarning: Can't summarize feature 'can_cor' with summary 'sd'. Will set it as 'np.nan'.\n",
      "  RuntimeWarning,\n",
      "c:\\users\\mateusz\\appdata\\local\\programs\\python\\python36\\lib\\site-packages\\numpy\\core\\fromnumeric.py:3118: RuntimeWarning: Mean of empty slice.\n",
      "  out=out, **kwargs)\n",
      "c:\\users\\mateusz\\appdata\\local\\programs\\python\\python36\\lib\\site-packages\\numpy\\core\\_methods.py:85: RuntimeWarning: invalid value encountered in double_scalars\n",
      "  ret = ret.dtype.type(ret / rcount)\n",
      "c:\\users\\mateusz\\appdata\\local\\programs\\python\\python36\\lib\\site-packages\\pymfe\\_internal.py:734: RuntimeWarning: Can't summarize feature 'can_cor' with summary 'mean'. Will set it as 'np.nan'.\n",
      "  RuntimeWarning,\n",
      "c:\\users\\mateusz\\appdata\\local\\programs\\python\\python36\\lib\\site-packages\\pymfe\\_internal.py:615: RuntimeWarning: Can't extract feature 'lh_trace'.\n",
      " Exception message: LinAlgError('SVD did not converge',).\n",
      "  RuntimeWarning,\n",
      "c:\\users\\mateusz\\appdata\\local\\programs\\python\\python36\\lib\\site-packages\\pymfe\\_internal.py:615: RuntimeWarning: Can't extract feature 'mad'.\n",
      " Exception message: AttributeError(\"module 'scipy.stats' has no attribute 'median_abs_deviation'\",).\n",
      " Will set it as 'np.nan' for all summary functions.\n",
      "  RuntimeWarning,\n",
      "c:\\users\\mateusz\\appdata\\local\\programs\\python\\python36\\lib\\site-packages\\pymfe\\_internal.py:734: RuntimeWarning: Can't summarize feature 'mad' with summary 'sd'. Will set it as 'np.nan'.\n",
      "  RuntimeWarning,\n",
      "c:\\users\\mateusz\\appdata\\local\\programs\\python\\python36\\lib\\site-packages\\numpy\\core\\fromnumeric.py:3118: RuntimeWarning: Mean of empty slice.\n",
      "  out=out, **kwargs)\n",
      "c:\\users\\mateusz\\appdata\\local\\programs\\python\\python36\\lib\\site-packages\\numpy\\core\\_methods.py:85: RuntimeWarning: invalid value encountered in double_scalars\n",
      "  ret = ret.dtype.type(ret / rcount)\n",
      "c:\\users\\mateusz\\appdata\\local\\programs\\python\\python36\\lib\\site-packages\\pymfe\\_internal.py:734: RuntimeWarning: Can't summarize feature 'mad' with summary 'mean'. Will set it as 'np.nan'.\n",
      "  RuntimeWarning,\n",
      "c:\\users\\mateusz\\appdata\\local\\programs\\python\\python36\\lib\\site-packages\\pymfe\\_internal.py:615: RuntimeWarning: Can't extract feature 'nr_disc'.\n",
      " Exception message: LinAlgError('SVD did not converge',).\n",
      "  RuntimeWarning,\n",
      "c:\\users\\mateusz\\appdata\\local\\programs\\python\\python36\\lib\\site-packages\\pymfe\\_internal.py:615: RuntimeWarning: Can't extract feature 'p_trace'.\n",
      " Exception message: LinAlgError('SVD did not converge',).\n",
      "  RuntimeWarning,\n",
      "c:\\users\\mateusz\\appdata\\local\\programs\\python\\python36\\lib\\site-packages\\pymfe\\_internal.py:615: RuntimeWarning: Can't extract feature 'roy_root'.\n",
      " Exception message: LinAlgError('SVD did not converge',).\n",
      "  RuntimeWarning,\n",
      "c:\\users\\mateusz\\appdata\\local\\programs\\python\\python36\\lib\\site-packages\\pymfe\\_internal.py:615: RuntimeWarning: Can't extract feature 'sd_ratio'.\n",
      " Exception message: AxisError('axis 1 is out of bounds for array of dimension 1',).\n",
      "  RuntimeWarning,\n",
      "c:\\users\\mateusz\\appdata\\local\\programs\\python\\python36\\lib\\site-packages\\pymfe\\_internal.py:615: RuntimeWarning: Can't extract feature 'w_lambda'.\n",
      " Exception message: LinAlgError('SVD did not converge',).\n",
      "  RuntimeWarning,\n"
     ]
    },
    {
     "name": "stdout",
     "output_type": "stream",
     "text": [
      "processing https://www.openml.org/d/61\n",
      "processing https://www.openml.org/d/37\n"
     ]
    },
    {
     "name": "stderr",
     "output_type": "stream",
     "text": [
      "c:\\users\\mateusz\\appdata\\local\\programs\\python\\python36\\lib\\site-packages\\pymfe\\_internal.py:615: RuntimeWarning: Can't extract feature 'mad'.\n",
      " Exception message: AttributeError(\"module 'scipy.stats' has no attribute 'median_abs_deviation'\",).\n",
      " Will set it as 'np.nan' for all summary functions.\n",
      "  RuntimeWarning,\n",
      "c:\\users\\mateusz\\appdata\\local\\programs\\python\\python36\\lib\\site-packages\\pymfe\\_internal.py:734: RuntimeWarning: Can't summarize feature 'mad' with summary 'sd'. Will set it as 'np.nan'.\n",
      "  RuntimeWarning,\n",
      "c:\\users\\mateusz\\appdata\\local\\programs\\python\\python36\\lib\\site-packages\\numpy\\core\\fromnumeric.py:3118: RuntimeWarning: Mean of empty slice.\n",
      "  out=out, **kwargs)\n",
      "c:\\users\\mateusz\\appdata\\local\\programs\\python\\python36\\lib\\site-packages\\numpy\\core\\_methods.py:85: RuntimeWarning: invalid value encountered in double_scalars\n",
      "  ret = ret.dtype.type(ret / rcount)\n",
      "c:\\users\\mateusz\\appdata\\local\\programs\\python\\python36\\lib\\site-packages\\pymfe\\_internal.py:734: RuntimeWarning: Can't summarize feature 'mad' with summary 'mean'. Will set it as 'np.nan'.\n",
      "  RuntimeWarning,\n",
      "c:\\users\\mateusz\\appdata\\local\\programs\\python\\python36\\lib\\site-packages\\pymfe\\_internal.py:1566: UserWarning: It is not possible make equal discretization\n",
      "  warnings.warn(\"It is not possible make equal discretization\")\n"
     ]
    },
    {
     "ename": "IndexError",
     "evalue": "too many indices for array",
     "output_type": "error",
     "traceback": [
      "\u001b[1;31m---------------------------------------------------------------------------\u001b[0m",
      "\u001b[1;31mIndexError\u001b[0m                                Traceback (most recent call last)",
      "\u001b[1;32m<ipython-input-164-31bd65f645b1>\u001b[0m in \u001b[0;36m<module>\u001b[1;34m\u001b[0m\n\u001b[0;32m     13\u001b[0m     \u001b[0mX1\u001b[0m\u001b[1;33m[\u001b[0m\u001b[0mnp\u001b[0m\u001b[1;33m.\u001b[0m\u001b[0misnan\u001b[0m\u001b[1;33m(\u001b[0m\u001b[0mX1\u001b[0m\u001b[1;33m)\u001b[0m\u001b[1;33m]\u001b[0m \u001b[1;33m=\u001b[0m \u001b[1;36m0\u001b[0m\u001b[1;33m\u001b[0m\u001b[1;33m\u001b[0m\u001b[0m\n\u001b[0;32m     14\u001b[0m     \u001b[0my1\u001b[0m\u001b[1;33m[\u001b[0m\u001b[0mnp\u001b[0m\u001b[1;33m.\u001b[0m\u001b[0misnan\u001b[0m\u001b[1;33m(\u001b[0m\u001b[0my1\u001b[0m\u001b[1;33m)\u001b[0m\u001b[1;33m]\u001b[0m \u001b[1;33m=\u001b[0m \u001b[1;36m0\u001b[0m\u001b[1;33m\u001b[0m\u001b[1;33m\u001b[0m\u001b[0m\n\u001b[1;32m---> 15\u001b[1;33m     \u001b[0mmf\u001b[0m \u001b[1;33m=\u001b[0m \u001b[0mextract_meta_features\u001b[0m\u001b[1;33m(\u001b[0m\u001b[0mX1\u001b[0m\u001b[1;33m,\u001b[0m \u001b[0my1\u001b[0m\u001b[1;33m)\u001b[0m\u001b[1;33m\u001b[0m\u001b[1;33m\u001b[0m\u001b[0m\n\u001b[0m\u001b[0;32m     16\u001b[0m     \u001b[0mmeta_features\u001b[0m\u001b[1;33m.\u001b[0m\u001b[0mappend\u001b[0m\u001b[1;33m(\u001b[0m\u001b[0mmf\u001b[0m\u001b[1;33m)\u001b[0m\u001b[1;33m\u001b[0m\u001b[1;33m\u001b[0m\u001b[0m\n",
      "\u001b[1;32m<ipython-input-153-5f21653f5509>\u001b[0m in \u001b[0;36mextract_meta_features\u001b[1;34m(X, y)\u001b[0m\n\u001b[0;32m      2\u001b[0m     \u001b[1;31m# Extract default measures\u001b[0m\u001b[1;33m\u001b[0m\u001b[1;33m\u001b[0m\u001b[1;33m\u001b[0m\u001b[0m\n\u001b[0;32m      3\u001b[0m     \u001b[0mmfe\u001b[0m \u001b[1;33m=\u001b[0m \u001b[0mmfe\u001b[0m \u001b[1;33m=\u001b[0m \u001b[0mMFE\u001b[0m\u001b[1;33m(\u001b[0m\u001b[0mgroups\u001b[0m\u001b[1;33m=\u001b[0m\u001b[1;33m[\u001b[0m\u001b[1;34m\"general\"\u001b[0m\u001b[1;33m,\u001b[0m \u001b[1;34m\"statistical\"\u001b[0m\u001b[1;33m,\u001b[0m \u001b[1;34m\"info-theory\"\u001b[0m\u001b[1;33m]\u001b[0m\u001b[1;33m)\u001b[0m \u001b[1;31m#MFE()\u001b[0m\u001b[1;33m\u001b[0m\u001b[1;33m\u001b[0m\u001b[0m\n\u001b[1;32m----> 4\u001b[1;33m     \u001b[0mmfe\u001b[0m\u001b[1;33m.\u001b[0m\u001b[0mfit\u001b[0m\u001b[1;33m(\u001b[0m\u001b[0mX\u001b[0m\u001b[1;33m,\u001b[0m \u001b[0my\u001b[0m\u001b[1;33m)\u001b[0m\u001b[1;33m\u001b[0m\u001b[1;33m\u001b[0m\u001b[0m\n\u001b[0m\u001b[0;32m      5\u001b[0m     \u001b[0mft\u001b[0m \u001b[1;33m=\u001b[0m \u001b[0mmfe\u001b[0m\u001b[1;33m.\u001b[0m\u001b[0mextract\u001b[0m\u001b[1;33m(\u001b[0m\u001b[1;33m)\u001b[0m\u001b[1;33m\u001b[0m\u001b[1;33m\u001b[0m\u001b[0m\n\u001b[0;32m      6\u001b[0m     \u001b[1;32mreturn\u001b[0m \u001b[0mft\u001b[0m\u001b[1;33m\u001b[0m\u001b[1;33m\u001b[0m\u001b[0m\n",
      "\u001b[1;32mc:\\users\\mateusz\\appdata\\local\\programs\\python\\python36\\lib\\site-packages\\pymfe\\mfe.py\u001b[0m in \u001b[0;36mfit\u001b[1;34m(self, X, y, transform_num, transform_cat, rescale, rescale_args, cat_cols, check_bool, precomp_groups, wildcard, suppress_warnings, verbose, **kwargs)\u001b[0m\n\u001b[0;32m   1146\u001b[0m                 \u001b[0mverbose\u001b[0m\u001b[1;33m=\u001b[0m\u001b[0mverbose\u001b[0m\u001b[1;33m,\u001b[0m\u001b[1;33m\u001b[0m\u001b[1;33m\u001b[0m\u001b[0m\n\u001b[0;32m   1147\u001b[0m                 \u001b[1;33m**\u001b[0m\u001b[0mself\u001b[0m\u001b[1;33m.\u001b[0m\u001b[0m_custom_args_ft\u001b[0m\u001b[1;33m,\u001b[0m\u001b[1;33m\u001b[0m\u001b[1;33m\u001b[0m\u001b[0m\n\u001b[1;32m-> 1148\u001b[1;33m                 \u001b[1;33m**\u001b[0m\u001b[0mkwargs\u001b[0m\u001b[1;33m,\u001b[0m\u001b[1;33m\u001b[0m\u001b[1;33m\u001b[0m\u001b[0m\n\u001b[0m\u001b[0;32m   1149\u001b[0m             )\n\u001b[0;32m   1150\u001b[0m \u001b[1;33m\u001b[0m\u001b[0m\n",
      "\u001b[1;32mc:\\users\\mateusz\\appdata\\local\\programs\\python\\python36\\lib\\site-packages\\pymfe\\_internal.py\u001b[0m in \u001b[0;36mprocess_precomp_groups\u001b[1;34m(precomp_groups, groups, wildcard, suppress_warnings, verbose, custom_class_, **kwargs)\u001b[0m\n\u001b[0;32m   1271\u001b[0m \u001b[1;33m\u001b[0m\u001b[0m\n\u001b[0;32m   1272\u001b[0m         \u001b[1;32mtry\u001b[0m\u001b[1;33m:\u001b[0m\u001b[1;33m\u001b[0m\u001b[1;33m\u001b[0m\u001b[0m\n\u001b[1;32m-> 1273\u001b[1;33m             \u001b[0mnew_precomp_vals\u001b[0m \u001b[1;33m=\u001b[0m \u001b[0mprecomp_mtd_callable\u001b[0m\u001b[1;33m(\u001b[0m\u001b[1;33m**\u001b[0m\u001b[0mkwargs\u001b[0m\u001b[1;33m)\u001b[0m  \u001b[1;31m# type: ignore\u001b[0m\u001b[1;33m\u001b[0m\u001b[1;33m\u001b[0m\u001b[0m\n\u001b[0m\u001b[0;32m   1274\u001b[0m \u001b[1;33m\u001b[0m\u001b[0m\n\u001b[0;32m   1275\u001b[0m         \u001b[1;32mexcept\u001b[0m \u001b[0m_EXCEPTIONS\u001b[0m \u001b[1;32mas\u001b[0m \u001b[0mtype_err\u001b[0m\u001b[1;33m:\u001b[0m\u001b[1;33m\u001b[0m\u001b[1;33m\u001b[0m\u001b[0m\n",
      "\u001b[1;32mc:\\users\\mateusz\\appdata\\local\\programs\\python\\python36\\lib\\site-packages\\pymfe\\statistical.py\u001b[0m in \u001b[0;36mprecompute_can_cors\u001b[1;34m(cls, N, y, **kwargs)\u001b[0m\n\u001b[0;32m    132\u001b[0m             \u001b[1;32mand\u001b[0m \u001b[1;32mnot\u001b[0m \u001b[1;33m{\u001b[0m\u001b[1;34m\"can_cors\"\u001b[0m\u001b[1;33m,\u001b[0m \u001b[1;34m\"can_cor_eigvals\"\u001b[0m\u001b[1;33m}\u001b[0m\u001b[1;33m.\u001b[0m\u001b[0missubset\u001b[0m\u001b[1;33m(\u001b[0m\u001b[0mkwargs\u001b[0m\u001b[1;33m)\u001b[0m\u001b[1;33m\u001b[0m\u001b[1;33m\u001b[0m\u001b[0m\n\u001b[0;32m    133\u001b[0m         ):\n\u001b[1;32m--> 134\u001b[1;33m             \u001b[0mcan_cors\u001b[0m \u001b[1;33m=\u001b[0m \u001b[0mcls\u001b[0m\u001b[1;33m.\u001b[0m\u001b[0m_calc_can_cors\u001b[0m\u001b[1;33m(\u001b[0m\u001b[0mN\u001b[0m\u001b[1;33m=\u001b[0m\u001b[0mN\u001b[0m\u001b[1;33m,\u001b[0m \u001b[0my\u001b[0m\u001b[1;33m=\u001b[0m\u001b[0my\u001b[0m\u001b[1;33m)\u001b[0m\u001b[1;33m\u001b[0m\u001b[1;33m\u001b[0m\u001b[0m\n\u001b[0m\u001b[0;32m    135\u001b[0m \u001b[1;33m\u001b[0m\u001b[0m\n\u001b[0;32m    136\u001b[0m             \u001b[0mprecomp_vals\u001b[0m\u001b[1;33m[\u001b[0m\u001b[1;34m\"can_cors\"\u001b[0m\u001b[1;33m]\u001b[0m \u001b[1;33m=\u001b[0m \u001b[0mcan_cors\u001b[0m\u001b[1;33m\u001b[0m\u001b[1;33m\u001b[0m\u001b[0m\n",
      "\u001b[1;32mc:\\users\\mateusz\\appdata\\local\\programs\\python\\python36\\lib\\site-packages\\pymfe\\statistical.py\u001b[0m in \u001b[0;36m_calc_can_cors\u001b[1;34m(cls, N, y)\u001b[0m\n\u001b[0;32m    256\u001b[0m \u001b[1;33m\u001b[0m\u001b[0m\n\u001b[0;32m    257\u001b[0m         \u001b[1;32mwhile\u001b[0m \u001b[0mind\u001b[0m \u001b[1;33m<\u001b[0m \u001b[0mn_components\u001b[0m \u001b[1;32mand\u001b[0m \u001b[0mnp\u001b[0m\u001b[1;33m.\u001b[0m\u001b[0many\u001b[0m\u001b[1;33m(\u001b[0m\u001b[0mnp\u001b[0m\u001b[1;33m.\u001b[0m\u001b[0mflatnonzero\u001b[0m\u001b[1;33m(\u001b[0m\u001b[0mN_tf\u001b[0m\u001b[1;33m[\u001b[0m\u001b[1;33m:\u001b[0m\u001b[1;33m,\u001b[0m \u001b[0mind\u001b[0m\u001b[1;33m]\u001b[0m\u001b[1;33m)\u001b[0m\u001b[1;33m)\u001b[0m\u001b[1;33m:\u001b[0m\u001b[1;33m\u001b[0m\u001b[1;33m\u001b[0m\u001b[0m\n\u001b[1;32m--> 258\u001b[1;33m             \u001b[0mcan_cors\u001b[0m\u001b[1;33m[\u001b[0m\u001b[0mind\u001b[0m\u001b[1;33m]\u001b[0m \u001b[1;33m=\u001b[0m \u001b[0mnp\u001b[0m\u001b[1;33m.\u001b[0m\u001b[0mcorrcoef\u001b[0m\u001b[1;33m(\u001b[0m\u001b[0mN_tf\u001b[0m\u001b[1;33m[\u001b[0m\u001b[1;33m:\u001b[0m\u001b[1;33m,\u001b[0m \u001b[0mind\u001b[0m\u001b[1;33m]\u001b[0m\u001b[1;33m,\u001b[0m \u001b[0my_tf\u001b[0m\u001b[1;33m[\u001b[0m\u001b[1;33m:\u001b[0m\u001b[1;33m,\u001b[0m \u001b[0mind\u001b[0m\u001b[1;33m]\u001b[0m\u001b[1;33m)\u001b[0m\u001b[1;33m[\u001b[0m\u001b[1;36m0\u001b[0m\u001b[1;33m,\u001b[0m \u001b[1;36m1\u001b[0m\u001b[1;33m]\u001b[0m\u001b[1;33m\u001b[0m\u001b[1;33m\u001b[0m\u001b[0m\n\u001b[0m\u001b[0;32m    259\u001b[0m             \u001b[0mind\u001b[0m \u001b[1;33m+=\u001b[0m \u001b[1;36m1\u001b[0m\u001b[1;33m\u001b[0m\u001b[1;33m\u001b[0m\u001b[0m\n\u001b[0;32m    260\u001b[0m \u001b[1;33m\u001b[0m\u001b[0m\n",
      "\u001b[1;31mIndexError\u001b[0m: too many indices for array"
     ]
    }
   ],
   "source": [
    "meta_features = []\n",
    "for d in datasets:\n",
    "    print(f\"processing {d['url']}\")\n",
    "    X =d[\"data\"]\n",
    "    y =d[\"target\"]\n",
    "    xenc = OrdinalEncoder()\n",
    "    X1 = np.concatenate(\n",
    "        (xenc.fit_transform(X.select_dtypes(include=['category'])),\n",
    "        X.select_dtypes(include=['number', 'bool'])), 1\n",
    "    )\n",
    "    yenc = OrdinalEncoder()\n",
    "    y1 = yenc.fit_transform(y.to_numpy().reshape(-1, 1)).reshape(1, -1)\n",
    "#     X1[np.isnan(X1)] = 0\n",
    "#     y1[np.isnan(y1)] = 0\n",
    "    mf = extract_meta_features(X1, y1)\n",
    "    meta_features.append(mf)"
   ]
  },
  {
   "cell_type": "code",
   "execution_count": null,
   "metadata": {},
   "outputs": [],
   "source": [
    "datasets = []\n",
    "loaders = [load_iris, load_diabetes, load_wine, load_breast_cancer]"
   ]
  },
  {
   "cell_type": "code",
   "execution_count": 150,
   "metadata": {},
   "outputs": [
    {
     "data": {
      "text/plain": [
       "[]"
      ]
     },
     "execution_count": 150,
     "metadata": {},
     "output_type": "execute_result"
    }
   ],
   "source": [
    "meta_features"
   ]
  }
 ],
 "metadata": {
  "kernelspec": {
   "display_name": "Python 3 (ipykernel)",
   "language": "python",
   "name": "python3"
  },
  "language_info": {
   "codemirror_mode": {
    "name": "ipython",
    "version": 3
   },
   "file_extension": ".py",
   "mimetype": "text/x-python",
   "name": "python",
   "nbconvert_exporter": "python",
   "pygments_lexer": "ipython3",
   "version": "3.10.6"
  }
 },
 "nbformat": 4,
 "nbformat_minor": 2
}
