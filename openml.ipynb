{
 "cells": [
  {
   "cell_type": "code",
   "execution_count": 5,
   "metadata": {},
   "outputs": [],
   "source": [
    "import openml\n",
    "from sklearn import impute, tree, pipeline\n"
   ]
  },
  {
   "cell_type": "code",
   "execution_count": 12,
   "metadata": {},
   "outputs": [],
   "source": [
    "# Define a scikit-learn classifier or pipeline\n",
    "clf = pipeline.Pipeline(\n",
    "    steps=[\n",
    "        ('imputer', impute.SimpleImputer()),\n",
    "        ('estimator', tree.DecisionTreeClassifier())\n",
    "    ]\n",
    ")\n",
    "# Download the OpenML task for the german credit card dataset with 10-fold\n",
    "# cross-validation.\n",
    "task = openml.tasks.get_task(32)\n",
    "# Run the scikit-learn model on the task.\n",
    "# run = openml.runs.run_model_on_task(clf, task)\n",
    "# Publish the experiment on OpenML (optional, requires an API key.\n",
    "# You can get your own API key by signing up to OpenML.org)\n",
    "# run.publish()\n",
    "# print(f'View the run online: {run.openml_url}')"
   ]
  },
  {
   "cell_type": "code",
   "execution_count": 25,
   "metadata": {},
   "outputs": [
    {
     "data": {
      "text/plain": [
       "32"
      ]
     },
     "execution_count": 25,
     "metadata": {},
     "output_type": "execute_result"
    }
   ],
   "source": [
    "task.id"
   ]
  },
  {
   "cell_type": "code",
   "execution_count": 19,
   "metadata": {},
   "outputs": [],
   "source": [
    "run = openml.runs.run_model_on_task(clf, task, avoid_duplicate_runs=False)"
   ]
  },
  {
   "cell_type": "code",
   "execution_count": 20,
   "metadata": {},
   "outputs": [
    {
     "data": {
      "text/plain": [
       "OpenML Run\n",
       "==========\n",
       "Uploader Name: None\n",
       "Metric.......: None\n",
       "Run ID.......: None\n",
       "Task ID......: 32\n",
       "Task Type....: None\n",
       "Task URL.....: https://www.openml.org/t/32\n",
       "Flow ID......: None\n",
       "Flow Name....: sklearn.pipeline.Pipeline(imputer=sklearn.impute._base.SimpleImputer,estimator=sklearn.tree._classes.DecisionTreeClassifier)\n",
       "Flow URL.....: https://www.openml.org/f/None\n",
       "Setup ID.....: None\n",
       "Setup String.: Python_3.6.7. Sklearn_0.22.2.post1. NumPy_1.19.5. SciPy_1.4.1.\n",
       "Dataset ID...: 32\n",
       "Dataset URL..: https://www.openml.org/d/32"
      ]
     },
     "execution_count": 20,
     "metadata": {},
     "output_type": "execute_result"
    }
   ],
   "source": [
    "run"
   ]
  },
  {
   "cell_type": "code",
   "execution_count": 30,
   "metadata": {},
   "outputs": [],
   "source": [
    "benchmark_suite = openml.study.get_suite('OpenML-CC18') # obtain the benchmark suite"
   ]
  },
  {
   "cell_type": "code",
   "execution_count": null,
   "metadata": {},
   "outputs": [],
   "source": [
    "tasks = [3\n",
    "6\n",
    "11\n",
    "12\n",
    "14]"
   ]
  },
  {
   "cell_type": "code",
   "execution_count": 33,
   "metadata": {},
   "outputs": [
    {
     "name": "stdout",
     "output_type": "stream",
     "text": [
      "3\n",
      "6\n",
      "11\n",
      "12\n",
      "14\n",
      "15\n",
      "16\n",
      "18\n",
      "22\n",
      "23\n",
      "28\n",
      "29\n",
      "31\n",
      "32\n",
      "37\n",
      "43\n",
      "45\n",
      "49\n",
      "53\n",
      "219\n",
      "2074\n",
      "2079\n",
      "3021\n",
      "3022\n",
      "3481\n",
      "3549\n",
      "3560\n",
      "3573\n",
      "3902\n",
      "3903\n",
      "3904\n",
      "3913\n",
      "3917\n",
      "3918\n",
      "7592\n",
      "9910\n",
      "9946\n",
      "9952\n",
      "9957\n",
      "9960\n",
      "9964\n",
      "9971\n",
      "9976\n",
      "9977\n",
      "9978\n",
      "9981\n",
      "9985\n",
      "10093\n",
      "10101\n",
      "14952\n",
      "14954\n",
      "14965\n",
      "14969\n",
      "14970\n",
      "125920\n",
      "125922\n",
      "146195\n",
      "146800\n",
      "146817\n",
      "146819\n",
      "146820\n",
      "146821\n",
      "146822\n",
      "146824\n",
      "146825\n",
      "167119\n",
      "167120\n",
      "167121\n",
      "167124\n",
      "167125\n",
      "167140\n",
      "167141\n"
     ]
    }
   ],
   "source": [
    "for task_id in benchmark_suite.tasks:  # iterate over all tasks\n",
    "    print(task_id)\n",
    "#     task = openml.tasks.get_task(task_id)  # download the OpenML task\n",
    "#     features, targets = task.get_X_and_y()  # get the data"
   ]
  }
 ],
 "metadata": {
  "kernelspec": {
   "display_name": "Python 3",
   "language": "python",
   "name": "python3"
  },
  "language_info": {
   "codemirror_mode": {
    "name": "ipython",
    "version": 3
   },
   "file_extension": ".py",
   "mimetype": "text/x-python",
   "name": "python",
   "nbconvert_exporter": "python",
   "pygments_lexer": "ipython3",
   "version": "3.6.7"
  }
 },
 "nbformat": 4,
 "nbformat_minor": 2
}
